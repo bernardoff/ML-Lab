{
 "cells": [
  {
   "cell_type": "code",
   "execution_count": 1,
   "metadata": {},
   "outputs": [],
   "source": [
    "import pandas as pd\n",
    "import matplotlib.pyplot as plt\n",
    "import numpy as np\n",
    "from sklearn import feature_extraction\n",
    "\n",
    "%matplotlib inline"
   ]
  },
  {
   "cell_type": "code",
   "execution_count": 2,
   "metadata": {},
   "outputs": [],
   "source": [
    "dir = 'C:\\\\Users\\\\BF-MSTR\\\\Dropbox\\\\'"
   ]
  },
  {
   "cell_type": "code",
   "execution_count": 3,
   "metadata": {},
   "outputs": [],
   "source": [
    "df = pd.read_csv(dir+'ratings.csv')\n",
    "df.Genres.fillna('',inplace=True)"
   ]
  },
  {
   "cell_type": "code",
   "execution_count": 4,
   "metadata": {},
   "outputs": [],
   "source": [
    "vec = feature_extraction.text.CountVectorizer()\n",
    "X = vec.fit_transform(df.Genres.values)"
   ]
  },
  {
   "cell_type": "code",
   "execution_count": 5,
   "metadata": {},
   "outputs": [
    {
     "data": {
      "text/html": [
       "<div>\n",
       "<style scoped>\n",
       "    .dataframe tbody tr th:only-of-type {\n",
       "        vertical-align: middle;\n",
       "    }\n",
       "\n",
       "    .dataframe tbody tr th {\n",
       "        vertical-align: top;\n",
       "    }\n",
       "\n",
       "    .dataframe thead th {\n",
       "        text-align: right;\n",
       "    }\n",
       "</style>\n",
       "<table border=\"1\" class=\"dataframe\">\n",
       "  <thead>\n",
       "    <tr style=\"text-align: right;\">\n",
       "      <th></th>\n",
       "      <th>count</th>\n",
       "    </tr>\n",
       "  </thead>\n",
       "  <tbody>\n",
       "    <tr>\n",
       "      <th>adventure</th>\n",
       "      <td>333</td>\n",
       "    </tr>\n",
       "    <tr>\n",
       "      <th>drama</th>\n",
       "      <td>320</td>\n",
       "    </tr>\n",
       "    <tr>\n",
       "      <th>action</th>\n",
       "      <td>317</td>\n",
       "    </tr>\n",
       "    <tr>\n",
       "      <th>sci_fi</th>\n",
       "      <td>226</td>\n",
       "    </tr>\n",
       "    <tr>\n",
       "      <th>thriller</th>\n",
       "      <td>201</td>\n",
       "    </tr>\n",
       "    <tr>\n",
       "      <th>fantasy</th>\n",
       "      <td>188</td>\n",
       "    </tr>\n",
       "    <tr>\n",
       "      <th>comedy</th>\n",
       "      <td>134</td>\n",
       "    </tr>\n",
       "    <tr>\n",
       "      <th>romance</th>\n",
       "      <td>106</td>\n",
       "    </tr>\n",
       "    <tr>\n",
       "      <th>family</th>\n",
       "      <td>103</td>\n",
       "    </tr>\n",
       "    <tr>\n",
       "      <th>animation</th>\n",
       "      <td>95</td>\n",
       "    </tr>\n",
       "    <tr>\n",
       "      <th>mystery</th>\n",
       "      <td>83</td>\n",
       "    </tr>\n",
       "    <tr>\n",
       "      <th>crime</th>\n",
       "      <td>69</td>\n",
       "    </tr>\n",
       "    <tr>\n",
       "      <th>biography</th>\n",
       "      <td>65</td>\n",
       "    </tr>\n",
       "    <tr>\n",
       "      <th>history</th>\n",
       "      <td>53</td>\n",
       "    </tr>\n",
       "    <tr>\n",
       "      <th>horror</th>\n",
       "      <td>35</td>\n",
       "    </tr>\n",
       "    <tr>\n",
       "      <th>war</th>\n",
       "      <td>32</td>\n",
       "    </tr>\n",
       "    <tr>\n",
       "      <th>music</th>\n",
       "      <td>9</td>\n",
       "    </tr>\n",
       "    <tr>\n",
       "      <th>musical</th>\n",
       "      <td>8</td>\n",
       "    </tr>\n",
       "    <tr>\n",
       "      <th>sport</th>\n",
       "      <td>6</td>\n",
       "    </tr>\n",
       "    <tr>\n",
       "      <th>western</th>\n",
       "      <td>5</td>\n",
       "    </tr>\n",
       "    <tr>\n",
       "      <th>documentary</th>\n",
       "      <td>3</td>\n",
       "    </tr>\n",
       "    <tr>\n",
       "      <th>reality_tv</th>\n",
       "      <td>1</td>\n",
       "    </tr>\n",
       "  </tbody>\n",
       "</table>\n",
       "</div>"
      ],
      "text/plain": [
       "             count\n",
       "adventure      333\n",
       "drama          320\n",
       "action         317\n",
       "sci_fi         226\n",
       "thriller       201\n",
       "fantasy        188\n",
       "comedy         134\n",
       "romance        106\n",
       "family         103\n",
       "animation       95\n",
       "mystery         83\n",
       "crime           69\n",
       "biography       65\n",
       "history         53\n",
       "horror          35\n",
       "war             32\n",
       "music            9\n",
       "musical          8\n",
       "sport            6\n",
       "western          5\n",
       "documentary      3\n",
       "reality_tv       1"
      ]
     },
     "execution_count": 5,
     "metadata": {},
     "output_type": "execute_result"
    }
   ],
   "source": [
    "for i, cname in enumerate(vec.get_feature_names()):\n",
    "    df[cname] = X[:,i].toarray()\n",
    "cnt = np.array(X.sum(0))[0]\n",
    "df_cnt = pd.DataFrame(index=vec.get_feature_names(), columns=[\"count\"])\n",
    "for i in range(len(cnt)):\n",
    "    df_cnt.loc[vec.get_feature_names()[i],'count'] = cnt[i]\n",
    "\n",
    "df_cnt.sort_values('count' , ascending=False)"
   ]
  },
  {
   "cell_type": "code",
   "execution_count": 6,
   "metadata": {},
   "outputs": [],
   "source": [
    "df['difference'] = df['You rated'] - df['IMDb Rating']"
   ]
  },
  {
   "cell_type": "code",
   "execution_count": 7,
   "metadata": {},
   "outputs": [
    {
     "data": {
      "text/plain": [
       "Index(['position', 'const', 'created', 'modified', 'description', 'Title',\n",
       "       'Title type', 'Directors', 'You rated', 'IMDb Rating', 'Runtime (mins)',\n",
       "       'Year', 'Genres', 'Num. Votes', 'Release Date (month/day/year)', 'URL',\n",
       "       'action', 'adventure', 'animation', 'biography', 'comedy', 'crime',\n",
       "       'documentary', 'drama', 'family', 'fantasy', 'history', 'horror',\n",
       "       'music', 'musical', 'mystery', 'reality_tv', 'romance', 'sci_fi',\n",
       "       'sport', 'thriller', 'war', 'western', 'difference'],\n",
       "      dtype='object')"
      ]
     },
     "execution_count": 7,
     "metadata": {},
     "output_type": "execute_result"
    }
   ],
   "source": [
    "df.columns"
   ]
  },
  {
   "cell_type": "code",
   "execution_count": 8,
   "metadata": {},
   "outputs": [
    {
     "data": {
      "text/plain": [
       "<matplotlib.axes._subplots.AxesSubplot at 0x22cc3022f98>"
      ]
     },
     "execution_count": 8,
     "metadata": {},
     "output_type": "execute_result"
    },
    {
     "data": {
      "image/png": "[encoded data removed]",
      "text/plain": [
       "<matplotlib.figure.Figure at 0x22cc30229e8>"
      ]
     },
     "metadata": {},
     "output_type": "display_data"
    }
   ],
   "source": [
    "df_dif = pd.DataFrame(index = vec.get_feature_names(), columns=['Avg','count'])\n",
    "for i, cname in enumerate(vec.get_feature_names()):\n",
    "    df_dif.loc[cname, 'Avg'] = df[df[cname] == 1]['difference'].mean()\n",
    "    df_dif.loc[cname,'count'] = cnt[i]\n",
    "    df_dif.loc[cname, 'You rated'] = df[df[cname] == 1]['You rated'].mean()\n",
    "    df_dif.loc[cname, 'IMDb Rating'] = df[df[cname] == 1]['IMDb Rating'].mean()\n",
    "    \n",
    "df_dif.sort_values('count',ascending=False)\n",
    "df_dif.Avg=df_dif.Avg.astype(float)\n",
    "df_dif['count']=df_dif['count'].astype(float)\n",
    "df_dif.plot.scatter('count','Avg',np.arange(df_dif.shape[0])*30, range(df_dif.shape[0]))\n",
    "\n"
   ]
  },
  {
   "cell_type": "code",
   "execution_count": 9,
   "metadata": {},
   "outputs": [
    {
     "name": "stdout",
     "output_type": "stream",
     "text": [
      "Help on method scatter in module pandas.plotting._core:\n",
      "\n",
      "scatter(x, y, s=None, c=None, **kwds) method of pandas.plotting._core.FramePlotMethods instance\n",
      "    Scatter plot\n",
      "    \n",
      "    .. versionadded:: 0.17.0\n",
      "    \n",
      "    Parameters\n",
      "    ----------\n",
      "    x, y : label or position, optional\n",
      "        Coordinates for each point.\n",
      "    s : scalar or array_like, optional\n",
      "        Size of each point.\n",
      "    c : label or position, optional\n",
      "        Color of each point.\n",
      "    **kwds : optional\n",
      "        Keyword arguments to pass on to :py:meth:`pandas.DataFrame.plot`.\n",
      "    \n",
      "    Returns\n",
      "    -------\n",
      "    axes : matplotlib.AxesSubplot or np.array of them\n",
      "\n"
     ]
    }
   ],
   "source": [
    "help(df_dif.plot.scatter)"
   ]
  },
  {
   "cell_type": "code",
   "execution_count": 10,
   "metadata": {},
   "outputs": [
    {
     "data": {
      "text/html": [
       "<div>\n",
       "<style scoped>\n",
       "    .dataframe tbody tr th:only-of-type {\n",
       "        vertical-align: middle;\n",
       "    }\n",
       "\n",
       "    .dataframe tbody tr th {\n",
       "        vertical-align: top;\n",
       "    }\n",
       "\n",
       "    .dataframe thead th {\n",
       "        text-align: right;\n",
       "    }\n",
       "</style>\n",
       "<table border=\"1\" class=\"dataframe\">\n",
       "  <thead>\n",
       "    <tr style=\"text-align: right;\">\n",
       "      <th></th>\n",
       "      <th>Avg</th>\n",
       "      <th>count</th>\n",
       "      <th>You rated</th>\n",
       "      <th>IMDb Rating</th>\n",
       "    </tr>\n",
       "  </thead>\n",
       "  <tbody>\n",
       "    <tr>\n",
       "      <th>adventure</th>\n",
       "      <td>0.297297</td>\n",
       "      <td>333.0</td>\n",
       "      <td>7.348348</td>\n",
       "      <td>7.051051</td>\n",
       "    </tr>\n",
       "    <tr>\n",
       "      <th>drama</th>\n",
       "      <td>-0.544063</td>\n",
       "      <td>320.0</td>\n",
       "      <td>6.909375</td>\n",
       "      <td>7.453437</td>\n",
       "    </tr>\n",
       "    <tr>\n",
       "      <th>action</th>\n",
       "      <td>0.066877</td>\n",
       "      <td>317.0</td>\n",
       "      <td>7.056782</td>\n",
       "      <td>6.989905</td>\n",
       "    </tr>\n",
       "    <tr>\n",
       "      <th>sci_fi</th>\n",
       "      <td>0.430531</td>\n",
       "      <td>226.0</td>\n",
       "      <td>7.584071</td>\n",
       "      <td>7.153540</td>\n",
       "    </tr>\n",
       "    <tr>\n",
       "      <th>thriller</th>\n",
       "      <td>-0.699005</td>\n",
       "      <td>201.0</td>\n",
       "      <td>6.402985</td>\n",
       "      <td>7.101990</td>\n",
       "    </tr>\n",
       "    <tr>\n",
       "      <th>fantasy</th>\n",
       "      <td>0.178723</td>\n",
       "      <td>188.0</td>\n",
       "      <td>7.287234</td>\n",
       "      <td>7.108511</td>\n",
       "    </tr>\n",
       "    <tr>\n",
       "      <th>comedy</th>\n",
       "      <td>-0.543284</td>\n",
       "      <td>134.0</td>\n",
       "      <td>6.925373</td>\n",
       "      <td>7.468657</td>\n",
       "    </tr>\n",
       "    <tr>\n",
       "      <th>romance</th>\n",
       "      <td>-0.348113</td>\n",
       "      <td>106.0</td>\n",
       "      <td>6.877358</td>\n",
       "      <td>7.225472</td>\n",
       "    </tr>\n",
       "    <tr>\n",
       "      <th>family</th>\n",
       "      <td>0.483495</td>\n",
       "      <td>103.0</td>\n",
       "      <td>7.747573</td>\n",
       "      <td>7.264078</td>\n",
       "    </tr>\n",
       "    <tr>\n",
       "      <th>animation</th>\n",
       "      <td>0.804211</td>\n",
       "      <td>95.0</td>\n",
       "      <td>8.463158</td>\n",
       "      <td>7.658947</td>\n",
       "    </tr>\n",
       "    <tr>\n",
       "      <th>mystery</th>\n",
       "      <td>-1.200000</td>\n",
       "      <td>83.0</td>\n",
       "      <td>6.228916</td>\n",
       "      <td>7.428916</td>\n",
       "    </tr>\n",
       "    <tr>\n",
       "      <th>crime</th>\n",
       "      <td>-1.118841</td>\n",
       "      <td>69.0</td>\n",
       "      <td>6.246377</td>\n",
       "      <td>7.365217</td>\n",
       "    </tr>\n",
       "    <tr>\n",
       "      <th>biography</th>\n",
       "      <td>-0.001538</td>\n",
       "      <td>65.0</td>\n",
       "      <td>7.430769</td>\n",
       "      <td>7.432308</td>\n",
       "    </tr>\n",
       "    <tr>\n",
       "      <th>history</th>\n",
       "      <td>-0.018868</td>\n",
       "      <td>53.0</td>\n",
       "      <td>7.377358</td>\n",
       "      <td>7.396226</td>\n",
       "    </tr>\n",
       "    <tr>\n",
       "      <th>horror</th>\n",
       "      <td>-0.914286</td>\n",
       "      <td>35.0</td>\n",
       "      <td>6.028571</td>\n",
       "      <td>6.942857</td>\n",
       "    </tr>\n",
       "    <tr>\n",
       "      <th>war</th>\n",
       "      <td>-0.568750</td>\n",
       "      <td>32.0</td>\n",
       "      <td>6.937500</td>\n",
       "      <td>7.506250</td>\n",
       "    </tr>\n",
       "    <tr>\n",
       "      <th>music</th>\n",
       "      <td>0.077778</td>\n",
       "      <td>9.0</td>\n",
       "      <td>7.444444</td>\n",
       "      <td>7.366667</td>\n",
       "    </tr>\n",
       "    <tr>\n",
       "      <th>musical</th>\n",
       "      <td>0.537500</td>\n",
       "      <td>8.0</td>\n",
       "      <td>8.125000</td>\n",
       "      <td>7.587500</td>\n",
       "    </tr>\n",
       "    <tr>\n",
       "      <th>sport</th>\n",
       "      <td>0.350000</td>\n",
       "      <td>6.0</td>\n",
       "      <td>7.666667</td>\n",
       "      <td>7.316667</td>\n",
       "    </tr>\n",
       "    <tr>\n",
       "      <th>western</th>\n",
       "      <td>-0.280000</td>\n",
       "      <td>5.0</td>\n",
       "      <td>7.200000</td>\n",
       "      <td>7.480000</td>\n",
       "    </tr>\n",
       "    <tr>\n",
       "      <th>documentary</th>\n",
       "      <td>-0.866667</td>\n",
       "      <td>3.0</td>\n",
       "      <td>8.000000</td>\n",
       "      <td>8.866667</td>\n",
       "    </tr>\n",
       "    <tr>\n",
       "      <th>reality_tv</th>\n",
       "      <td>-4.300000</td>\n",
       "      <td>1.0</td>\n",
       "      <td>4.000000</td>\n",
       "      <td>8.300000</td>\n",
       "    </tr>\n",
       "  </tbody>\n",
       "</table>\n",
       "</div>"
      ],
      "text/plain": [
       "                  Avg  count  You rated  IMDb Rating\n",
       "adventure    0.297297  333.0   7.348348     7.051051\n",
       "drama       -0.544063  320.0   6.909375     7.453437\n",
       "action       0.066877  317.0   7.056782     6.989905\n",
       "sci_fi       0.430531  226.0   7.584071     7.153540\n",
       "thriller    -0.699005  201.0   6.402985     7.101990\n",
       "fantasy      0.178723  188.0   7.287234     7.108511\n",
       "comedy      -0.543284  134.0   6.925373     7.468657\n",
       "romance     -0.348113  106.0   6.877358     7.225472\n",
       "family       0.483495  103.0   7.747573     7.264078\n",
       "animation    0.804211   95.0   8.463158     7.658947\n",
       "mystery     -1.200000   83.0   6.228916     7.428916\n",
       "crime       -1.118841   69.0   6.246377     7.365217\n",
       "biography   -0.001538   65.0   7.430769     7.432308\n",
       "history     -0.018868   53.0   7.377358     7.396226\n",
       "horror      -0.914286   35.0   6.028571     6.942857\n",
       "war         -0.568750   32.0   6.937500     7.506250\n",
       "music        0.077778    9.0   7.444444     7.366667\n",
       "musical      0.537500    8.0   8.125000     7.587500\n",
       "sport        0.350000    6.0   7.666667     7.316667\n",
       "western     -0.280000    5.0   7.200000     7.480000\n",
       "documentary -0.866667    3.0   8.000000     8.866667\n",
       "reality_tv  -4.300000    1.0   4.000000     8.300000"
      ]
     },
     "execution_count": 10,
     "metadata": {},
     "output_type": "execute_result"
    }
   ],
   "source": [
    "df_dif.sort_values('count', ascending=False)"
   ]
  },
  {
   "cell_type": "code",
   "execution_count": null,
   "metadata": {},
   "outputs": [],
   "source": []
  },
  {
   "cell_type": "code",
   "execution_count": 31,
   "metadata": {},
   "outputs": [
    {
     "data": {
      "text/plain": [
       "32                                   Águas Rasas\n",
       "39                                    Sala Verde\n",
       "147                                    A Colônia\n",
       "166            João e Maria: Caçadores de Bruxas\n",
       "340                                  Morte Negra\n",
       "350    Os Instrumentos Mortais: Cidade dos Ossos\n",
       "493         Abraham Lincoln: Caçador de Vampiros\n",
       "555           A Múmia: Tumba do Imperador Dragão\n",
       "Name: Title, dtype: object"
      ]
     },
     "execution_count": 31,
     "metadata": {},
     "output_type": "execute_result"
    }
   ],
   "source": [
    "df[(df.horror==1) & (df['You rated'] < 4) & (df['Title type'] == 'Feature Film')].Title"
   ]
  },
  {
   "cell_type": "code",
   "execution_count": null,
   "metadata": {},
   "outputs": [],
   "source": []
  },
  {
   "cell_type": "code",
   "execution_count": 12,
   "metadata": {},
   "outputs": [
    {
     "data": {
      "text/plain": [
       "<Container object of 22 artists>"
      ]
     },
     "execution_count": 12,
     "metadata": {},
     "output_type": "execute_result"
    },
    {
     "data": {
      "image/png": "[encoded data removed]",
      "text/plain": [
       "<matplotlib.figure.Figure at 0x22cc3077240>"
      ]
     },
     "metadata": {},
     "output_type": "display_data"
    }
   ],
   "source": [
    "cnt = np.array(X.sum(0))[0]\n",
    "plt.barh(cnt,range(len(vec.get_feature_names())))"
   ]
  },
  {
   "cell_type": "code",
   "execution_count": 13,
   "metadata": {},
   "outputs": [
    {
     "data": {
      "text/plain": [
       "(1, 22)"
      ]
     },
     "execution_count": 13,
     "metadata": {},
     "output_type": "execute_result"
    }
   ],
   "source": [
    "X.sum(0).shape"
   ]
  }
 ],
 "metadata": {
  "kernelspec": {
   "display_name": "Python 3",
   "language": "python",
   "name": "python3"
  },
  "language_info": {
   "codemirror_mode": {
    "name": "ipython",
    "version": 3
   },
   "file_extension": ".py",
   "mimetype": "text/x-python",
   "name": "python",
   "nbconvert_exporter": "python",
   "pygments_lexer": "ipython3",
   "version": "3.6.3"
  }
 },
 "nbformat": 4,
 "nbformat_minor": 2
}
