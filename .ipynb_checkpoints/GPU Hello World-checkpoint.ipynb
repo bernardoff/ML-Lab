{
 "cells": [
  {
   "cell_type": "code",
   "execution_count": 2,
   "metadata": {},
   "outputs": [],
   "source": [
    "import sys\n",
    "import numpy as np\n",
    "import tensorflow as tf\n",
    "from datetime import datetime"
   ]
  },
  {
   "cell_type": "code",
   "execution_count": 10,
   "metadata": {},
   "outputs": [
    {
     "name": "stdout",
     "output_type": "stream",
     "text": [
      "[[3369.473  2530.09   2521.7864 ... 2515.2507 2537.422  2503.6934]\n",
      " [2530.09   3360.0183 2511.4233 ... 2504.335  2517.273  2480.953 ]\n",
      " [2521.7864 2511.4233 3331.1047 ... 2489.4678 2507.937  2471.2534]\n",
      " ...\n",
      " [2515.2507 2504.335  2489.4678 ... 3310.2205 2494.7012 2477.1274]\n",
      " [2537.422  2517.273  2507.937  ... 2494.7012 3356.941  2501.6643]\n",
      " [2503.6934 2480.953  2471.2534 ... 2477.1274 2501.6643 3301.3962]]\n",
      "\n",
      "\n",
      "\n",
      "Shape: (10000, 10000) Device: /gpu:0\n",
      "Time taken: 0:00:01.778264\n",
      "\n",
      "\n",
      "\n"
     ]
    }
   ],
   "source": [
    "device_name=\"/gpu:0\"\n",
    "#device_name=\"/cpu:0\"\n",
    "\n",
    "shape=(int(10000),int(10000))\n",
    "\n",
    "with tf.device(device_name):\n",
    "    random_matrix = tf.random_uniform(shape=shape, minval=0, maxval=1)\n",
    "    dot_operation = tf.matmul(random_matrix, tf.transpose(random_matrix))\n",
    "    sum_operation = tf.reduce_sum(dot_operation)\n",
    "\n",
    "startTime = datetime.now()\n",
    "with tf.Session(config=tf.ConfigProto(log_device_placement=True)) as session:\n",
    "        result = session.run(dot_operation)\n",
    "        #result = session.run(sum_operation)\n",
    "        print(result)\n",
    "\n",
    "print(\"\\n\" * 2)\n",
    "print(\"Shape:\", shape, \"Device:\", device_name)\n",
    "print(\"Time taken:\", datetime.now() - startTime)\n",
    "\n",
    "print(\"\\n\" * 2)\n"
   ]
  }
 ],
 "metadata": {
  "kernelspec": {
   "display_name": "Python 3",
   "language": "python",
   "name": "python3"
  },
  "language_info": {
   "codemirror_mode": {
    "name": "ipython",
    "version": 3
   },
   "file_extension": ".py",
   "mimetype": "text/x-python",
   "name": "python",
   "nbconvert_exporter": "python",
   "pygments_lexer": "ipython3",
   "version": "3.6.5"
  }
 },
 "nbformat": 4,
 "nbformat_minor": 2
}
